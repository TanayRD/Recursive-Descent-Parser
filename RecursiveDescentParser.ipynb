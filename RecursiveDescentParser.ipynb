{
 "cells": [
  {
   "cell_type": "markdown",
   "metadata": {},
   "source": [
    "# Recursive Descent Parsing\n",
    "## *Works for all Non-recursive Grammars*"
   ]
  },
  {
   "cell_type": "code",
   "execution_count": 1,
   "metadata": {},
   "outputs": [],
   "source": [
    "class RDP:\n",
    "    def __init__(self,plist,string):\n",
    "        self.plist = plist\n",
    "        self.string = string\n",
    "        self.index = 0\n",
    "\n",
    "    def step(self,prod_index):\n",
    "        #Production rule\n",
    "        for production in plist[prod_index]:\n",
    "            #For one production\n",
    "            temp = self.index\n",
    "            flag = 0\n",
    "            for symbol in production:\n",
    "                if(symbol>='A' and symbol<='Z'):\n",
    "                    self.s/tep(symbol)\n",
    "                elif(symbol=='~'):\n",
    "                    flag = 1\n",
    "                    break\n",
    "                else:\n",
    "                    if(self.string[self.index]==symbol):\n",
    "                        self.index+=1\n",
    "                    else:\n",
    "                        #backtrack\n",
    "                        self.index = temp\n",
    "            if(self.index != temp or flag == 1):\n",
    "                break\n",
    "        if(len(self.string)==self.index):\n",
    "            return True\n",
    "        return False"
   ]
  },
  {
   "cell_type": "code",
   "execution_count": 2,
   "metadata": {
    "scrolled": false
   },
   "outputs": [
    {
     "name": "stdout",
     "output_type": "stream",
     "text": [
      "\u001b[92;1mGuidelines to enter a production: \n",
      "\t1. Use uppercase letter for non terminal symbol\n",
      "\t2. Use lowercase letter for terminal symbol\n",
      "\t3. Use ':' to represent '->'\n",
      "\t4. Use '|' to represent or\n",
      "\t5. Use '~' for epsilon\n",
      "\u001b[0mEnter the no. of production rules: 2\n",
      "Enter productions:\n",
      "S:aAb\n",
      "A:c|d\n",
      "Enter string to validate: acb\n",
      "String,acb accepted.\n",
      "------------------------------------------\n",
      "Want to check another string?[yes/no] yes\n",
      "Enter string to validate: adb\n",
      "String,adb accepted.\n",
      "------------------------------------------\n",
      "Want to check another string?[yes/no] yes\n",
      "Enter string to validate: aaa\n",
      "String,aaa not accepted.\n",
      "------------------------------------------\n",
      "Want to check another string?[yes/no] no\n",
      "Exited...\n"
     ]
    }
   ],
   "source": [
    "from cprint import cprint\n",
    "cprint(\"Guidelines to enter a production: \\n\\t1. Use uppercase letter for non terminal symbol\\n\\t2. Use lowercase letter for terminal symbol\\n\\t3. Use ':' to represent '->'\\n\\t4. Use '|' to represent or\\n\\t5. Use '~' for epsilon\",c='gB')\n",
    "\n",
    "n = int(input(\"Enter the no. of production rules: \"))\n",
    "plist = {}\n",
    "print(\"Enter productions:\")\n",
    "for i in range(n):\n",
    "    ip = input().replace(\" \",\"\")\n",
    "    ip = ip.split(\":\")\n",
    "    ip[1] = ip[1].split(\"|\")\n",
    "    plist[ip[0]] = ip[1]\n",
    "\n",
    "start = list(plist.keys())[0]\n",
    "while(True):\n",
    "    string = input(\"Enter string to validate: \")\n",
    "    rdp = RDP(plist,string)\n",
    "    if(rdp.step(start)):\n",
    "        print(\"String,{} accepted.\".format(string))\n",
    "    else:\n",
    "        print(\"String,{} not accepted.\".format(string))\n",
    "    print(\"------------------------------------------\")\n",
    "    \n",
    "    yn = input(\"Want to check another string?[yes/no] \")\n",
    "    if(yn=='no'):\n",
    "        print(\"Exited...\")\n",
    "        break"
   ]
  },
  {
   "cell_type": "code",
   "execution_count": null,
   "metadata": {},
   "outputs": [],
   "source": []
  }
 ],
 "metadata": {
  "kernelspec": {
   "display_name": "Python 3",
   "language": "python",
   "name": "python3"
  },
  "language_info": {
   "codemirror_mode": {
    "name": "ipython",
    "version": 3
   },
   "file_extension": ".py",
   "mimetype": "text/x-python",
   "name": "python",
   "nbconvert_exporter": "python",
   "pygments_lexer": "ipython3",
   "version": "3.8.5"
  }
 },
 "nbformat": 4,
 "nbformat_minor": 4
}
